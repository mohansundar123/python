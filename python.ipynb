{
  "cells": [
    {
      "cell_type": "code",
      "execution_count": 6,
      "metadata": {
        "colab": {
          "base_uri": "https://localhost:8080/"
        },
        "id": "B6-ShKfrEAmC",
        "outputId": "4650b7dd-0412-49e0-9c45-8c44403b1c8c"
      },
      "outputs": [
        {
          "output_type": "stream",
          "name": "stdout",
          "text": [
            "1\n",
            "100\n",
            "pronic -->  2\n",
            "pronic -->  6\n",
            "pronic -->  12\n",
            "pronic -->  20\n",
            "pronic -->  30\n",
            "pronic -->  42\n",
            "pronic -->  56\n",
            "pronic -->  72\n",
            "pronic -->  90\n"
          ]
        }
      ],
      "source": [
        "#3.Print all pronic numbers between 1 and 100\n",
        "first_num=int(input()) #1\n",
        "last_num=int(input()) #100\n",
        "for i in range(first_num, last_num):\n",
        "     if(i*(i+1)>100):\n",
        "         break\n",
        "     print(\"pronic --> \",i*(i+1))\n",
        " \n"
      ]
    },
    {
      "cell_type": "code",
      "source": [
        "#13.Python program to print the elements of an array in reverse order\n",
        "\n",
        "S=[1,2,3,4,5,6]\n",
        "print(S[::-1])\n",
        "\n"
      ],
      "metadata": {
        "colab": {
          "base_uri": "https://localhost:8080/"
        },
        "id": "KlP3EfkVlvoO",
        "outputId": "2bc753ef-9982-432e-8646-eac5bdf3d2a1"
      },
      "execution_count": 5,
      "outputs": [
        {
          "output_type": "stream",
          "name": "stdout",
          "text": [
            "[6, 5, 4, 3, 2, 1]\n"
          ]
        }
      ]
    },
    {
      "cell_type": "code",
      "source": [
        "#51.Write a program to print all the prime numbers between two numbers\n",
        "#from math import sqrt\n",
        "first_num=int(input())\n",
        "last_num=int(input())\n",
        "print (\"The Prime Numbers in the range are: \")  \n",
        "for number in range (first_num,last_num):  \n",
        "    if number > 1:  \n",
        "        for i in range (2, number):  \n",
        "            if (number % i) == 0:  \n",
        "                break  \n",
        "        else:  \n",
        "            print(number,end=\" \")  \n"
      ],
      "metadata": {
        "colab": {
          "base_uri": "https://localhost:8080/"
        },
        "id": "iN8o-qT6nz2y",
        "outputId": "91fe5043-b018-440b-f80c-9660bf5feb7e"
      },
      "execution_count": 18,
      "outputs": [
        {
          "output_type": "stream",
          "name": "stdout",
          "text": [
            "1\n",
            "100\n",
            "The Prime Numbers in the range are: \n",
            "2 3 5 7 11 13 17 19 23 29 31 37 41 43 47 53 59 61 67 71 73 79 83 89 97 "
          ]
        }
      ]
    }
  ],
  "metadata": {
    "colab": {
      "provenance": []
    },
    "kernelspec": {
      "display_name": "Python 3",
      "name": "python3"
    },
    "language_info": {
      "name": "python"
    }
  },
  "nbformat": 4,
  "nbformat_minor": 0
}